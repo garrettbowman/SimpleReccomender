{
 "cells": [
  {
   "cell_type": "code",
   "execution_count": 2,
   "metadata": {},
   "outputs": [
    {
     "name": "stderr",
     "output_type": "stream",
     "text": [
      "'wget' is not recognized as an internal or external command,\n",
      "operable program or batch file.\n"
     ]
    },
    {
     "name": "stderr",
     "output_type": "stream",
     "text": [
      "'unzip' is not recognized as an internal or external command,\n",
      "operable program or batch file.\n",
      "'rm' is not recognized as an internal or external command,\n",
      "operable program or batch file.\n",
      "The system cannot find the file specified.\n"
     ]
    }
   ],
   "source": [
    "import os\n",
    "\n",
    "# Download the movielens dataset\n",
    "if not os.path.exists('movielens_small'):\n",
    "    !wget https://files.grouplens.org/datasets/movielens/ml-latest-small.zip\n",
    "    !unzip ml-latest-small.zip\n",
    "    !rm ml-latest-small.zip\n",
    "    !move ml-latest-small movielens_small\n",
    "\n"
   ]
  }
 ],
 "metadata": {
  "kernelspec": {
   "display_name": "base",
   "language": "python",
   "name": "python3"
  },
  "language_info": {
   "codemirror_mode": {
    "name": "ipython",
    "version": 3
   },
   "file_extension": ".py",
   "mimetype": "text/x-python",
   "name": "python",
   "nbconvert_exporter": "python",
   "pygments_lexer": "ipython3",
   "version": "0.0.0"
  }
 },
 "nbformat": 4,
 "nbformat_minor": 2
}
